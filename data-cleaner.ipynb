{
 "cells": [
  {
   "cell_type": "code",
   "execution_count": 1,
   "metadata": {},
   "outputs": [],
   "source": [
    "import pandas as pd"
   ]
  },
  {
   "cell_type": "code",
   "execution_count": 2,
   "metadata": {},
   "outputs": [
    {
     "name": "stdout",
     "output_type": "stream",
     "text": [
      "<class 'pandas.core.frame.DataFrame'>\n",
      "RangeIndex: 423397 entries, 0 to 423396\n",
      "Data columns (total 9 columns):\n",
      " #   Column          Non-Null Count   Dtype  \n",
      "---  ------          --------------   -----  \n",
      " 0   id              423397 non-null  int64  \n",
      " 1   name            423397 non-null  object \n",
      " 2   description     0 non-null       float64\n",
      " 3   menus_appeared  423397 non-null  int64  \n",
      " 4   times_appeared  423397 non-null  int64  \n",
      " 5   first_appeared  423397 non-null  int64  \n",
      " 6   last_appeared   423397 non-null  int64  \n",
      " 7   lowest_price    394297 non-null  float64\n",
      " 8   highest_price   394297 non-null  float64\n",
      "dtypes: float64(3), int64(5), object(1)\n",
      "memory usage: 29.1+ MB\n"
     ]
    },
    {
     "data": {
      "text/html": [
       "<div>\n",
       "<style scoped>\n",
       "    .dataframe tbody tr th:only-of-type {\n",
       "        vertical-align: middle;\n",
       "    }\n",
       "\n",
       "    .dataframe tbody tr th {\n",
       "        vertical-align: top;\n",
       "    }\n",
       "\n",
       "    .dataframe thead th {\n",
       "        text-align: right;\n",
       "    }\n",
       "</style>\n",
       "<table border=\"1\" class=\"dataframe\">\n",
       "  <thead>\n",
       "    <tr style=\"text-align: right;\">\n",
       "      <th></th>\n",
       "      <th>id</th>\n",
       "      <th>name</th>\n",
       "      <th>description</th>\n",
       "      <th>menus_appeared</th>\n",
       "      <th>times_appeared</th>\n",
       "      <th>first_appeared</th>\n",
       "      <th>last_appeared</th>\n",
       "      <th>lowest_price</th>\n",
       "      <th>highest_price</th>\n",
       "    </tr>\n",
       "  </thead>\n",
       "  <tbody>\n",
       "    <tr>\n",
       "      <th>0</th>\n",
       "      <td>1</td>\n",
       "      <td>Consomme printaniere royal</td>\n",
       "      <td>NaN</td>\n",
       "      <td>8</td>\n",
       "      <td>8</td>\n",
       "      <td>1897</td>\n",
       "      <td>1927</td>\n",
       "      <td>0.20</td>\n",
       "      <td>0.4</td>\n",
       "    </tr>\n",
       "    <tr>\n",
       "      <th>1</th>\n",
       "      <td>2</td>\n",
       "      <td>Chicken gumbo</td>\n",
       "      <td>NaN</td>\n",
       "      <td>111</td>\n",
       "      <td>117</td>\n",
       "      <td>1895</td>\n",
       "      <td>1960</td>\n",
       "      <td>0.10</td>\n",
       "      <td>0.8</td>\n",
       "    </tr>\n",
       "    <tr>\n",
       "      <th>2</th>\n",
       "      <td>3</td>\n",
       "      <td>Tomato aux croutons</td>\n",
       "      <td>NaN</td>\n",
       "      <td>13</td>\n",
       "      <td>13</td>\n",
       "      <td>1893</td>\n",
       "      <td>1917</td>\n",
       "      <td>0.25</td>\n",
       "      <td>0.4</td>\n",
       "    </tr>\n",
       "    <tr>\n",
       "      <th>3</th>\n",
       "      <td>4</td>\n",
       "      <td>Onion au gratin</td>\n",
       "      <td>NaN</td>\n",
       "      <td>41</td>\n",
       "      <td>41</td>\n",
       "      <td>1900</td>\n",
       "      <td>1971</td>\n",
       "      <td>0.25</td>\n",
       "      <td>1.0</td>\n",
       "    </tr>\n",
       "    <tr>\n",
       "      <th>4</th>\n",
       "      <td>5</td>\n",
       "      <td>St. Emilion</td>\n",
       "      <td>NaN</td>\n",
       "      <td>66</td>\n",
       "      <td>68</td>\n",
       "      <td>1881</td>\n",
       "      <td>1981</td>\n",
       "      <td>0.00</td>\n",
       "      <td>18.0</td>\n",
       "    </tr>\n",
       "  </tbody>\n",
       "</table>\n",
       "</div>"
      ],
      "text/plain": [
       "   id                        name  description  menus_appeared  \\\n",
       "0   1  Consomme printaniere royal          NaN               8   \n",
       "1   2               Chicken gumbo          NaN             111   \n",
       "2   3         Tomato aux croutons          NaN              13   \n",
       "3   4             Onion au gratin          NaN              41   \n",
       "4   5                 St. Emilion          NaN              66   \n",
       "\n",
       "   times_appeared  first_appeared  last_appeared  lowest_price  highest_price  \n",
       "0               8            1897           1927          0.20            0.4  \n",
       "1             117            1895           1960          0.10            0.8  \n",
       "2              13            1893           1917          0.25            0.4  \n",
       "3              41            1900           1971          0.25            1.0  \n",
       "4              68            1881           1981          0.00           18.0  "
      ]
     },
     "execution_count": 2,
     "metadata": {},
     "output_type": "execute_result"
    }
   ],
   "source": [
    "df = pd.read_csv('Dish.csv') # renamed from the csv file within train.csv.zip on Kaggle\n",
    "\n",
    "df.info(verbose=True)\n",
    "\n",
    "df.head()"
   ]
  },
  {
   "cell_type": "code",
   "execution_count": 3,
   "metadata": {},
   "outputs": [
    {
     "name": "stdout",
     "output_type": "stream",
     "text": [
      "Index(['id', 'description', 'menus_appeared', 'times_appeared',\n",
      "       'first_appeared', 'last_appeared', 'lowest_price', 'highest_price'],\n",
      "      dtype='object')\n",
      "Index(['name'], dtype='object')\n"
     ]
    }
   ],
   "source": [
    "numeric_cols = df.select_dtypes(include=['number']).columns\n",
    "print(numeric_cols)\n",
    "\n",
    "non_numeric_cols = df.select_dtypes(exclude=['number']).columns\n",
    "print(non_numeric_cols)"
   ]
  },
  {
   "cell_type": "code",
   "execution_count": 4,
   "metadata": {},
   "outputs": [
    {
     "name": "stdout",
     "output_type": "stream",
     "text": [
      "<class 'pandas.core.frame.DataFrame'>\n",
      "RangeIndex: 423397 entries, 0 to 423396\n",
      "Data columns (total 1 columns):\n",
      " #   Column  Non-Null Count   Dtype \n",
      "---  ------  --------------   ----- \n",
      " 0   name    423397 non-null  object\n",
      "dtypes: object(1)\n",
      "memory usage: 3.2+ MB\n"
     ]
    }
   ],
   "source": [
    "df[non_numeric_cols].info()"
   ]
  },
  {
   "cell_type": "code",
   "execution_count": 6,
   "metadata": {},
   "outputs": [
    {
     "data": {
      "text/plain": [
       "id                     0\n",
       "name                   0\n",
       "description       423397\n",
       "menus_appeared         0\n",
       "times_appeared         0\n",
       "first_appeared         0\n",
       "last_appeared          0\n",
       "lowest_price       29100\n",
       "highest_price      29100\n",
       "dtype: int64"
      ]
     },
     "execution_count": 6,
     "metadata": {},
     "output_type": "execute_result"
    }
   ],
   "source": [
    "num_missing = df.isna().sum()\n",
    "num_missing[:10]"
   ]
  },
  {
   "cell_type": "code",
   "execution_count": 7,
   "metadata": {},
   "outputs": [
    {
     "data": {
      "text/plain": [
       "id                0.00000\n",
       "name              0.00000\n",
       "description       1.00000\n",
       "menus_appeared    0.00000\n",
       "times_appeared    0.00000\n",
       "first_appeared    0.00000\n",
       "last_appeared     0.00000\n",
       "lowest_price      0.06873\n",
       "highest_price     0.06873\n",
       "dtype: float64"
      ]
     },
     "execution_count": 7,
     "metadata": {},
     "output_type": "execute_result"
    }
   ],
   "source": [
    "pct_missing = df.isna().mean()\n",
    "pct_missing[:10]"
   ]
  },
  {
   "cell_type": "code",
   "execution_count": 14,
   "metadata": {},
   "outputs": [
    {
     "data": {
      "text/plain": [
       "<AxesSubplot:>"
      ]
     },
     "execution_count": 14,
     "metadata": {},
     "output_type": "execute_result"
    },
    {
     "data": {
      "image/png": "[encoded data removed]",
      "text/plain": [
       "<Figure size 720x576 with 2 Axes>"
      ]
     },
     "metadata": {
      "needs_background": "light"
     },
     "output_type": "display_data"
    }
   ],
   "source": [
    "import seaborn as sns\n",
    "import matplotlib.pyplot as plt\n",
    "\n",
    "plt.figure(figsize=(10,8))\n",
    "\n",
    "cols = df.columns[:30]\n",
    "colours = ['#e28743', '#0c679e'] # specify colours: yellow - missing. blue - not missing\n",
    "sns.heatmap(df[cols].isna(), cmap=sns.color_palette(colours))"
   ]
  },
  {
   "cell_type": "code",
   "execution_count": null,
   "metadata": {},
   "outputs": [],
   "source": []
  }
 ],
 "metadata": {
  "kernelspec": {
   "display_name": "Python 3.8.8 ('base')",
   "language": "python",
   "name": "python3"
  },
  "language_info": {
   "codemirror_mode": {
    "name": "ipython",
    "version": 3
   },
   "file_extension": ".py",
   "mimetype": "text/x-python",
   "name": "python",
   "nbconvert_exporter": "python",
   "pygments_lexer": "ipython3",
   "version": "3.8.8"
  },
  "orig_nbformat": 4,
  "vscode": {
   "interpreter": {
    "hash": "ad2bdc8ecc057115af97d19610ffacc2b4e99fae6737bb82f5d7fb13d2f2c186"
   }
  }
 },
 "nbformat": 4,
 "nbformat_minor": 2
}
